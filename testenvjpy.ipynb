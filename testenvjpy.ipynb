{
 "cells": [
  {
   "cell_type": "code",
   "execution_count": null,
   "id": "8465027a",
   "metadata": {},
   "outputs": [],
   "source": [
    "# 检查库\n",
    "import numpy as np\n",
    "import matplotlib.pyplot as plt\n",
    "\n",
    "print(\"Numpy 版本:\", np.__version__)\n",
    "print(\"Matplotlib 版本:\", plt.__version__ if hasattr(plt, \"__version__\") else \"无\")"
   ]
  },
  {
   "cell_type": "code",
   "execution_count": null,
   "id": "71cb1fbf",
   "metadata": {},
   "outputs": [],
   "source": [
    "# 定义 sigmoid 函数\n",
    "def sigmoid(x):\n",
    "    return 1 / (1 + np.exp(-x))\n",
    "\n",
    "# 生成数据\n",
    "x = np.linspace(-10, 10, 200)\n",
    "y = sigmoid(x)\n",
    "\n",
    "# 画图\n",
    "plt.figure(figsize=(6,4))\n",
    "plt.plot(x, y, label=\"sigmoid(x)\")\n",
    "plt.title(\"Sigmoid 函数\")\n",
    "plt.xlabel(\"x\")\n",
    "plt.ylabel(\"sigmoid(x)\")\n",
    "plt.grid(True)\n",
    "plt.legend()\n",
    "plt.show()"
   ]
  }
 ],
 "metadata": {
  "language_info": {
   "name": "python"
  }
 },
 "nbformat": 4,
 "nbformat_minor": 5
}
